{
 "cells": [
  {
   "cell_type": "markdown",
   "id": "ebb66abd-7a49-4651-82a5-12c4c3805f08",
   "metadata": {},
   "source": [
    "# Инструменты и экосистема Data Science"
   ]
  },
  {
   "cell_type": "markdown",
   "id": "ce21fef9-d708-47f4-8f97-bc203eaed263",
   "metadata": {},
   "source": [
    "В этом блокноте представлены инструменты и экосистема Data Science."
   ]
  },
  {
   "cell_type": "markdown",
   "id": "de6d0bc0-f41b-49bf-a595-a0704d222004",
   "metadata": {},
   "source": [
    "Некоторые из популярных языков, которые используют специалисты по Data Science:\n",
    "1. Python\n",
    "2. R\n",
    "3. SQL"
   ]
  },
  {
   "cell_type": "markdown",
   "id": "04b73c03-d7d7-4f22-96eb-7014f35f49f6",
   "metadata": {},
   "source": [
    "Некоторые из часто используемых библиотек, которые используют специалисты по Data Science, включают:\n",
    "1. NumPy\n",
    "2. Pandas\n",
    "3. Matplotlib"
   ]
  },
  {
   "cell_type": "markdown",
   "id": "3edd9acb-2883-4360-b4ae-639d29547a40",
   "metadata": {},
   "source": [
    "| Инструменты Data Science |\n",
    "|--------------------------|\n",
    "| Jupyter Notebook         |\n",
    "| RStudio                  |\n",
    "| VS Code                  |"
   ]
  },
  {
   "cell_type": "markdown",
   "id": "3a04db09-a6ef-455f-b898-b0a535ac635b",
   "metadata": {},
   "source": [
    "### Ниже приведены несколько примеров оценки арифметических выражений в Python"
   ]
  },
  {
   "cell_type": "code",
   "execution_count": 1,
   "id": "7c800869-44ef-4348-8c3c-d96564136055",
   "metadata": {},
   "outputs": [
    {
     "data": {
      "text/plain": [
       "17"
      ]
     },
     "execution_count": 1,
     "metadata": {},
     "output_type": "execute_result"
    }
   ],
   "source": [
    "# Это простое арифметическое выражение для умножения, а затем сложения целых чисел\n",
    "(3 * 4) + 5"
   ]
  },
  {
   "cell_type": "code",
   "execution_count": 2,
   "id": "62dde0d6-2ec4-438c-8895-50312d4f72c2",
   "metadata": {},
   "outputs": [
    {
     "data": {
      "text/plain": [
       "3.3333333333333335"
      ]
     },
     "execution_count": 2,
     "metadata": {},
     "output_type": "execute_result"
    }
   ],
   "source": [
    "# Это преобразует 200 минут в часы, деля на 60\n",
    "200 / 60"
   ]
  },
  {
   "cell_type": "markdown",
   "id": "55f9e84d-dfbb-424e-a44a-9f62ba16eec2",
   "metadata": {},
   "source": [
    "**Цели:**\n",
    "- Перечислить популярные языки для Data Science\n",
    "- Описать часто используемые библиотеки\n",
    "- Показать примеры арифметических операций в Python"
   ]
  },
  {
   "cell_type": "markdown",
   "id": "1af4b128-c2d3-4c87-ab18-d74584d33c36",
   "metadata": {},
   "source": [
    "## Автор\n",
    "[Литвяк Тимофей]"
   ]
  }
 ],
 "metadata": {
  "kernelspec": {
   "display_name": "Python 3 (ipykernel)",
   "language": "python",
   "name": "python3"
  },
  "language_info": {
   "codemirror_mode": {
    "name": "ipython",
    "version": 3
   },
   "file_extension": ".py",
   "mimetype": "text/x-python",
   "name": "python",
   "nbconvert_exporter": "python",
   "pygments_lexer": "ipython3",
   "version": "3.9.21"
  }
 },
 "nbformat": 4,
 "nbformat_minor": 5
}
